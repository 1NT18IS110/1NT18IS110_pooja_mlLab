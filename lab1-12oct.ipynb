{
 "cells": [
  {
   "cell_type": "code",
   "execution_count": 51,
   "metadata": {},
   "outputs": [],
   "source": [
    "l=[1,2,3,4,5]"
   ]
  },
  {
   "cell_type": "code",
   "execution_count": 52,
   "metadata": {},
   "outputs": [
    {
     "name": "stdout",
     "output_type": "stream",
     "text": [
      "elements of list are: \n",
      "[1, 2, 3, 4, 5]\n"
     ]
    }
   ],
   "source": [
    "print(\"elements of list are: \")\n",
    "print(l)"
   ]
  },
  {
   "cell_type": "code",
   "execution_count": 53,
   "metadata": {},
   "outputs": [
    {
     "name": "stdout",
     "output_type": "stream",
     "text": [
      "3rd element:  3\n",
      "6th element:  World\n"
     ]
    }
   ],
   "source": [
    "l.append(\"World\")\n",
    "print(\"3rd element: \",l[2])\n",
    "print(\"6th element: \",l[5])"
   ]
  },
  {
   "cell_type": "code",
   "execution_count": 54,
   "metadata": {},
   "outputs": [
    {
     "data": {
      "text/plain": [
       "[1, 2, 3, 4, 5, 'hello']"
      ]
     },
     "execution_count": 54,
     "metadata": {},
     "output_type": "execute_result"
    }
   ],
   "source": [
    "l.remove(\"World\")\n",
    "l.append(\"hello\")\n",
    "# l[5]=\"Hello\"\n",
    "l"
   ]
  },
  {
   "cell_type": "code",
   "execution_count": 80,
   "metadata": {},
   "outputs": [
    {
     "name": "stdout",
     "output_type": "stream",
     "text": [
      "[7, 11, 13, 9]\n"
     ]
    }
   ],
   "source": [
    "#Adding elements in lists\n",
    "l1=[1,4,5]\n",
    "l2=[6,7,8,9]\n",
    "\n",
    "if(len(l2)<=len(l1)):\n",
    "    first=l2\n",
    "    second=l1\n",
    "else:\n",
    "    first=l1\n",
    "    second=l2\n",
    "\n",
    "for i in range(0,len(first)):\n",
    "    second[i]+=first[i]\n",
    "\n",
    "print(second)"
   ]
  },
  {
   "cell_type": "code",
   "execution_count": 70,
   "metadata": {},
   "outputs": [
    {
     "name": "stdout",
     "output_type": "stream",
     "text": [
      "Hello World\n"
     ]
    }
   ],
   "source": [
    "#String copy\n",
    "string1=\"Hello World\"\n",
    "string2=\"\"\n",
    "\n",
    "for i in range(len(string1)):\n",
    "    string2+=string1[i]\n",
    "print(string2)"
   ]
  },
  {
   "cell_type": "code",
   "execution_count": 82,
   "metadata": {},
   "outputs": [
    {
     "name": "stdout",
     "output_type": "stream",
     "text": [
      "Both string are same\n"
     ]
    }
   ],
   "source": [
    "# string compare \n",
    "def func(string1,string2):\n",
    "    if(len(string1)!=len(string2)):\n",
    "        print(\"String does not match\")\n",
    "        return\n",
    "    else:\n",
    "        for i in range(0,len(string1)):\n",
    "            if(string1[i]!=string2[i]):\n",
    "                print(\"String does not match\")\n",
    "                return\n",
    "    print(\"Both string are same\")\n",
    "string1=\"hello\"\n",
    "string2=\"hello\"\n",
    "func(string1,string2)"
   ]
  },
  {
   "cell_type": "code",
   "execution_count": 60,
   "metadata": {},
   "outputs": [
    {
     "name": "stdout",
     "output_type": "stream",
     "text": [
      "before swapping: \n",
      "a is:4, b is: 5\n",
      "After swapping\n",
      "a is:5, b is: 4\n"
     ]
    }
   ],
   "source": [
    "#swapping\n",
    "a=4\n",
    "b=5\n",
    "print(\"before swapping: \")\n",
    "print(\"a is:{}, b is: {}\".format(a,b))\n",
    "b=a+b\n",
    "a=b-a\n",
    "b=b-a\n",
    "print(\"After swapping\")\n",
    "print(\"a is:{}, b is: {}\".format(a,b))"
   ]
  },
  {
   "cell_type": "code",
   "execution_count": 55,
   "metadata": {},
   "outputs": [
    {
     "name": "stdout",
     "output_type": "stream",
     "text": [
      "integer:1, floating point: 2.7, name: Pooja\n"
     ]
    }
   ],
   "source": [
    "i=1\n",
    "f=2.7\n",
    "name=\"Pooja\"\n",
    "\n",
    "print(\"integer:{}, floating point: {}, name: {}\".format(i,f,name))"
   ]
  },
  {
   "cell_type": "code",
   "execution_count": 56,
   "metadata": {},
   "outputs": [
    {
     "name": "stdout",
     "output_type": "stream",
     "text": [
      "1\n",
      "2\n",
      "3\n",
      "4\n",
      "5\n",
      "6 th element is not integer\n"
     ]
    }
   ],
   "source": [
    "for i in range(len(l)):\n",
    "    if type(l[i])==int:\n",
    "        print(l[i])\n",
    "    else:\n",
    "        print(\"{} th element is not integer\".format(i+1))"
   ]
  },
  {
   "cell_type": "code",
   "execution_count": 90,
   "metadata": {},
   "outputs": [
    {
     "name": "stdout",
     "output_type": "stream",
     "text": [
      "1.addition 2.subtraction 3.multiplication 4.devision\n",
      "8\n",
      "operation invalid\n"
     ]
    }
   ],
   "source": [
    "#simple calculator\n",
    "def func():\n",
    "    print(\"1.addition 2.subtraction 3.multiplication 4.devision\")\n",
    "    val=int(input())\n",
    "    if(val>4 or val<0):\n",
    "        print(\"operation invalid\")\n",
    "        return\n",
    "    print(\"enter 2 elements\")\n",
    "    num1=int(input())\n",
    "    num2=int(input())\n",
    "    print(\"Answer after operation is: \")   \n",
    "    if(val==1):\n",
    "        print(num1+num2)\n",
    "    elif val==2:\n",
    "        print(num1-num2)\n",
    "    elif val==3:\n",
    "        print(num1*num2)\n",
    "    elif val==4:\n",
    "        print(num1/num2)\n",
    "func()"
   ]
  },
  {
   "cell_type": "code",
   "execution_count": 11,
   "metadata": {},
   "outputs": [
    {
     "name": "stdout",
     "output_type": "stream",
     "text": [
      "Mean is:  2.75\n",
      "Median is:  3.0\n"
     ]
    }
   ],
   "source": [
    "#Mean, Median, Mode\n",
    "l=[1,2,4,4]\n",
    "sum=0\n",
    "for i in l:\n",
    "    sum+=i\n",
    "\n",
    "print(\"Mean is: \",sum/len(l))\n",
    "\n",
    "if(len(l)%2!=0):\n",
    "    print(\"Median is: \",l[len(l)//2])\n",
    "else:\n",
    "    print(\"Median is: \",(l[len(l)//2] + l[(len(l)//2) -1])/2)\n"
   ]
  },
  {
   "cell_type": "code",
   "execution_count": 14,
   "metadata": {},
   "outputs": [
    {
     "name": "stdout",
     "output_type": "stream",
     "text": [
      "mean 2.75\n",
      "median 3.0\n",
      "mode ModeResult(mode=array([4]), count=array([2]))\n"
     ]
    }
   ],
   "source": [
    "#Mean, Median, Mode\n",
    "import numpy as np\n",
    "l=np.array([1,2,4,4])\n",
    "print(\"mean\",np.mean(l))\n",
    "print(\"median\",np.median(l))\n",
    "    \n",
    "from scipy import stats\n",
    "print(\"mode\",stats.mode(l))"
   ]
  },
  {
   "cell_type": "code",
   "execution_count": null,
   "metadata": {},
   "outputs": [],
   "source": []
  }
 ],
 "metadata": {
  "kernelspec": {
   "display_name": "Python 3",
   "language": "python",
   "name": "python3"
  },
  "language_info": {
   "codemirror_mode": {
    "name": "ipython",
    "version": 3
   },
   "file_extension": ".py",
   "mimetype": "text/x-python",
   "name": "python",
   "nbconvert_exporter": "python",
   "pygments_lexer": "ipython3",
   "version": "3.6.9"
  }
 },
 "nbformat": 4,
 "nbformat_minor": 2
}

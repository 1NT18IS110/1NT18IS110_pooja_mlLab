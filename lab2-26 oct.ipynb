{
 "cells": [
  {
   "cell_type": "markdown",
   "metadata": {},
   "source": [
    "## Bubble Sort"
   ]
  },
  {
   "cell_type": "code",
   "execution_count": 13,
   "metadata": {},
   "outputs": [
    {
     "name": "stdout",
     "output_type": "stream",
     "text": [
      "enter array of numbers in one line\n",
      "5 1 2 3\n",
      "\n",
      "After sorting\n",
      "1 2 3 5\n"
     ]
    }
   ],
   "source": [
    "print(\"enter array of numbers in one line\")\n",
    "l=list(map(int,input().split()))\n",
    "for i in range(0,len(l)-1):\n",
    "    for j in range(i+1,len(l)):\n",
    "        if l[i]>l[j]:\n",
    "            temp=l[i]\n",
    "            l[i]=l[j]\n",
    "            l[j]=temp\n",
    "print(\"\\nAfter sorting\")\n",
    "print(*l,sep=\" \")"
   ]
  },
  {
   "cell_type": "markdown",
   "metadata": {},
   "source": [
    "## Varience and Standard Deviation"
   ]
  },
  {
   "cell_type": "code",
   "execution_count": 26,
   "metadata": {},
   "outputs": [
    {
     "name": "stdout",
     "output_type": "stream",
     "text": [
      "enter array of numbers in one line\n",
      "1 2 3 4\n",
      "varience: 1.25 , sd :1.118033988749895\n"
     ]
    }
   ],
   "source": [
    "print(\"enter array of numbers in one line\")\n",
    "l=list(map(int,input().split()))\n",
    "\n",
    "mean=sum(l)/len(l)\n",
    "res=0\n",
    "for i in range(len(l)):\n",
    "    res+= pow((l[i]-mean),2)\n",
    "\n",
    "varience= res/(len(l))\n",
    "\n",
    "\n",
    "sd=pow(varience,(1/2))\n",
    "print(\"varience: {} , sd :{}\".format(varience,sd))\n"
   ]
  },
  {
   "cell_type": "code",
   "execution_count": null,
   "metadata": {},
   "outputs": [],
   "source": []
  }
 ],
 "metadata": {
  "kernelspec": {
   "display_name": "Python 3",
   "language": "python",
   "name": "python3"
  },
  "language_info": {
   "codemirror_mode": {
    "name": "ipython",
    "version": 3
   },
   "file_extension": ".py",
   "mimetype": "text/x-python",
   "name": "python",
   "nbconvert_exporter": "python",
   "pygments_lexer": "ipython3",
   "version": "3.6.9"
  }
 },
 "nbformat": 4,
 "nbformat_minor": 2
}
